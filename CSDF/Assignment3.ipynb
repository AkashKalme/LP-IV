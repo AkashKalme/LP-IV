{
 "cells": [
  {
   "cell_type": "code",
   "execution_count": 2,
   "id": "520cc9fb",
   "metadata": {},
   "outputs": [
    {
     "name": "stdout",
     "output_type": "stream",
     "text": [
      "Collecting pytsk3\n",
      "  Using cached pytsk3-20231007.tar.gz (3.1 MB)\n",
      "  Installing build dependencies: started\n",
      "  Installing build dependencies: finished with status 'done'\n",
      "  Getting requirements to build wheel: started\n",
      "  Getting requirements to build wheel: finished with status 'done'\n",
      "  Preparing metadata (pyproject.toml): started\n",
      "  Preparing metadata (pyproject.toml): finished with status 'done'\n",
      "Building wheels for collected packages: pytsk3\n",
      "  Building wheel for pytsk3 (pyproject.toml): started\n",
      "  Building wheel for pytsk3 (pyproject.toml): finished with status 'error'\n",
      "Failed to build pytsk3\n",
      "Note: you may need to restart the kernel to use updated packages.\n"
     ]
    },
    {
     "name": "stderr",
     "output_type": "stream",
     "text": [
      "  error: subprocess-exited-with-error\n",
      "  \n",
      "  × Building wheel for pytsk3 (pyproject.toml) did not run successfully.\n",
      "  │ exit code: 1\n",
      "  ╰─> [5 lines of output]\n",
      "      running bdist_wheel\n",
      "      running build\n",
      "      running build_ext\n",
      "      building 'pytsk3' extension\n",
      "      error: Microsoft Visual C++ 14.0 or greater is required. Get it with \"Microsoft C++ Build Tools\": https://visualstudio.microsoft.com/visual-cpp-build-tools/\n",
      "      [end of output]\n",
      "  \n",
      "  note: This error originates from a subprocess, and is likely not a problem with pip.\n",
      "  ERROR: Failed building wheel for pytsk3\n",
      "ERROR: Could not build wheels for pytsk3, which is required to install pyproject.toml-based projects\n",
      "\n",
      "[notice] A new release of pip available: 22.3.1 -> 23.3.1\n",
      "[notice] To update, run: python.exe -m pip install --upgrade pip\n"
     ]
    }
   ],
   "source": [
    "pip install pytsk3\n"
   ]
  },
  {
   "cell_type": "code",
   "execution_count": 1,
   "id": "eeb349b2",
   "metadata": {},
   "outputs": [
    {
     "ename": "ModuleNotFoundError",
     "evalue": "No module named 'pytsk3'",
     "output_type": "error",
     "traceback": [
      "\u001b[1;31m---------------------------------------------------------------------------\u001b[0m",
      "\u001b[1;31mModuleNotFoundError\u001b[0m                       Traceback (most recent call last)",
      "\u001b[1;32md:\\BE\\Semester 1\\LP IV\\CSDF\\Assignment3.ipynb Cell 1\u001b[0m line \u001b[0;36m2\n\u001b[0;32m      <a href='vscode-notebook-cell:/d%3A/BE/Semester%201/LP%20IV/CSDF/Assignment3.ipynb#W0sZmlsZQ%3D%3D?line=0'>1</a>\u001b[0m \u001b[39mimport\u001b[39;00m \u001b[39mos\u001b[39;00m\n\u001b[1;32m----> <a href='vscode-notebook-cell:/d%3A/BE/Semester%201/LP%20IV/CSDF/Assignment3.ipynb#W0sZmlsZQ%3D%3D?line=1'>2</a>\u001b[0m \u001b[39mimport\u001b[39;00m \u001b[39mpytsk3\u001b[39;00m\n",
      "\u001b[1;31mModuleNotFoundError\u001b[0m: No module named 'pytsk3'"
     ]
    }
   ],
   "source": [
    "import os\n",
    "import pytsk3\n"
   ]
  },
  {
   "cell_type": "code",
   "execution_count": null,
   "id": "19ffb845",
   "metadata": {},
   "outputs": [],
   "source": [
    "# Define the disk image path\n",
    "image_path = \"path_to_disk_image.dd\"  # Replace with your disk image file\n",
    "\n",
    "# Output directory for recovered files\n",
    "output_dir = \"recovered_files\"\n",
    "os.makedirs(output_dir, exist_ok=True)\n"
   ]
  },
  {
   "cell_type": "code",
   "execution_count": null,
   "id": "bbbe4584",
   "metadata": {},
   "outputs": [],
   "source": [
    "def recover_deleted_files(partition_addr, output_dir):\n",
    "    img_info = pytsk3.Img_Info(image_path)\n",
    "    fs_info = pytsk3.FS_Info(img_info, addr=partition_addr)\n",
    "\n",
    "    for directory_entry in fs_info.open_dir(path=\"/\", addr=partition_addr):\n",
    "        for file_entry in directory_entry:\n",
    "            if file_entry.info.name.type == pytsk3.TSK_FS_NAME_TYPE_UNDEF:\n",
    "                continue\n",
    "            try:\n",
    "                file_content = fs_info.open_meta(file_entry.info)\n",
    "                if file_content.info.meta.flags == pytsk3.TSK_FS_META_FLAG_ALLOC:\n",
    "                    with open(os.path.join(output_dir, file_entry.info.name.name), \"wb\") as f:\n",
    "                        f.write(file_content.read_random(\n",
    "                            0, file_entry.info.meta.size))\n",
    "            except Exception as e:\n",
    "                print(\n",
    "                    f\"Error recovering {file_entry.info.name.name}: {str(e)}\")\n"
   ]
  },
  {
   "cell_type": "code",
   "execution_count": null,
   "id": "3cec058b",
   "metadata": {},
   "outputs": [],
   "source": [
    "if __name__ == \"__main__\":\n",
    "    partition_table = pytsk3.Volume_Info(image_path)\n",
    "    for partition in partition_table:\n",
    "        if len(partition) > 0:\n",
    "            print(f\"Recovering deleted files from partition {partition.addr}\")\n",
    "            recover_deleted_files(partition.addr, output_dir)\n",
    "\n",
    "print(\"File recovery complete. Recovered files are in the 'recovered_files' directory.\")\n"
   ]
  }
 ],
 "metadata": {
  "kernelspec": {
   "display_name": "Python 3 (ipykernel)",
   "language": "python",
   "name": "python3"
  },
  "language_info": {
   "codemirror_mode": {
    "name": "ipython",
    "version": 3
   },
   "file_extension": ".py",
   "mimetype": "text/x-python",
   "name": "python",
   "nbconvert_exporter": "python",
   "pygments_lexer": "ipython3",
   "version": "3.11.3"
  }
 },
 "nbformat": 4,
 "nbformat_minor": 5
}
