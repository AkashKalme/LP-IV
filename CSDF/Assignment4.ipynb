{
 "cells": [
  {
   "cell_type": "code",
   "execution_count": 5,
   "id": "e761e8a0",
   "metadata": {},
   "outputs": [],
   "source": [
    "import re\n"
   ]
  },
  {
   "cell_type": "code",
   "execution_count": 6,
   "id": "37ebc1de",
   "metadata": {},
   "outputs": [],
   "source": [
    "# Function to read log entries from a text file\n",
    "def read_log_file(file_path):\n",
    "    with open(file_path, 'r') as log_file:\n",
    "        log_entries = log_file.readlines()\n",
    "    return log_entries\n"
   ]
  },
  {
   "cell_type": "code",
   "execution_count": 7,
   "id": "19725c51",
   "metadata": {},
   "outputs": [],
   "source": [
    "# Function to perform event correlation based on keywords\n",
    "def correlate_events(log_entries):\n",
    "    correlated_events = []\n",
    "    for entry in log_entries:\n",
    "        if 'error' in entry.lower():\n",
    "            correlated_events.append(f\"Error detected: {entry.strip()}\")\n",
    "        if 'warning' in entry.lower():\n",
    "            correlated_events.append(f\"Warning detected: {entry.strip()}\")\n",
    "        # Add more event correlation rules here\n",
    "\n",
    "    return correlated_events\n"
   ]
  },
  {
   "cell_type": "code",
   "execution_count": 9,
   "id": "ddc9f1e7",
   "metadata": {},
   "outputs": [
    {
     "name": "stdout",
     "output_type": "stream",
     "text": [
      "Correlated Events:\n",
      "Warning detected: [2023-10-25 12:31:15] WARNING: Disk space is running low (15% free).\n",
      "Error detected: [2023-10-25 12:32:00] ERROR: Failed to connect to the database.\n",
      "Warning detected: [2023-10-25 12:33:20] WARNING: CPU temperature is above the safe threshold (75Â°C).\n",
      "Error detected: [2023-10-25 12:34:00] ERROR: Application crashed unexpectedly. Restarting...\n",
      "Error detected: [2023-10-25 12:36:30] ERROR: Unauthorized access attempt from IP 192.168.1.100.\n",
      "Warning detected: [2023-10-25 12:37:15] WARNING: Network latency is high (average ping time: 150ms).\n",
      "Error detected: [2023-10-25 12:38:00] ERROR: Server overload. Increased response times.\n",
      "Warning detected: [2023-10-25 12:41:10] WARNING: Unusual database activity detected.\n"
     ]
    }
   ],
   "source": [
    "if __name__ == '__main__':\n",
    "    # Replace with your log file path\n",
    "    log_file_path = r'D:\\BE\\Semester 1\\LP IV\\CSDF\\sample_log.txt'\n",
    "\n",
    "    log_entries = read_log_file(log_file_path)\n",
    "    correlated_events = correlate_events(log_entries)\n",
    "\n",
    "    if correlated_events:\n",
    "        print(\"Correlated Events:\")\n",
    "        for event in correlated_events:\n",
    "            print(event)\n",
    "    else:\n",
    "        print(\"No correlated events found.\")\n"
   ]
  },
  {
   "cell_type": "code",
   "execution_count": null,
   "id": "29a36b8a",
   "metadata": {},
   "outputs": [],
   "source": []
  }
 ],
 "metadata": {
  "kernelspec": {
   "display_name": "Python 3 (ipykernel)",
   "language": "python",
   "name": "python3"
  },
  "language_info": {
   "codemirror_mode": {
    "name": "ipython",
    "version": 3
   },
   "file_extension": ".py",
   "mimetype": "text/x-python",
   "name": "python",
   "nbconvert_exporter": "python",
   "pygments_lexer": "ipython3",
   "version": "3.11.3"
  }
 },
 "nbformat": 4,
 "nbformat_minor": 5
}
